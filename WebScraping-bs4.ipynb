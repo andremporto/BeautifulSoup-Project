{
 "cells": [
  {
   "cell_type": "code",
   "execution_count": 6,
   "metadata": {},
   "outputs": [
    {
     "name": "stdout",
     "output_type": "stream",
     "text": [
      "Todos os Cursos Hashtag Treinamentos\n"
     ]
    }
   ],
   "source": [
    "from bs4 import BeautifulSoup\n",
    "\n",
    "with open(\"Pagina Hashtag.html\", \"r\", encoding=\"utf-8\") as arquivo:\n",
    "    site = BeautifulSoup(arquivo, \"html.parser\")\n",
    "\n",
    "# print(site.prettify())\n",
    "titulo = site.title\n",
    "print(titulo.text)\n"
   ]
  }
 ],
 "metadata": {
  "kernelspec": {
   "display_name": "BeautifulSoup",
   "language": "python",
   "name": "python3"
  },
  "language_info": {
   "codemirror_mode": {
    "name": "ipython",
    "version": 3
   },
   "file_extension": ".py",
   "mimetype": "text/x-python",
   "name": "python",
   "nbconvert_exporter": "python",
   "pygments_lexer": "ipython3",
   "version": "3.11.3"
  },
  "orig_nbformat": 4
 },
 "nbformat": 4,
 "nbformat_minor": 2
}
