{
 "cells": [
  {
   "attachments": {},
   "cell_type": "markdown",
   "metadata": {},
   "source": [
    "### Imports and requisitions\n"
   ]
  },
  {
   "cell_type": "code",
   "execution_count": 2,
   "metadata": {},
   "outputs": [],
   "source": [
    "from bs4 import BeautifulSoup\n",
    "import requests\n",
    "import re\n",
    "\n",
    "#  Website connection\n",
    "link = \"https://coinmarketcap.com/pt-br/\"\n",
    "request = requests.get(link)\n",
    "site = BeautifulSoup(request.text, \"html.parser\")\n"
   ]
  },
  {
   "cell_type": "code",
   "execution_count": 37,
   "metadata": {},
   "outputs": [
    {
     "name": "stdout",
     "output_type": "stream",
     "text": [
      "{'Bitcoin': {'nome': 'Bitcoin', 'codigo': 'BTC', 'preco': 'R$145,784.63', 'var_1h': '0.11%', 'var_24h': '-1.48%', 'var_7d': '-0.75%', 'market_cap': 'R$2,823,977,192,843', 'volume': 'R$90,236,418,145'}, 'Ethereum': {'nome': 'Ethereum', 'codigo': 'ETH', 'preco': 'R$10,290.37', 'var_1h': '0.08%', 'var_24h': '-0.58%', 'var_7d': '8.01%', 'market_cap': 'R$1,229,805,488,043', 'volume': 'R$50,867,858,198'}, 'Tether': {'nome': 'Tether', 'codigo': 'USDT', 'preco': 'R$4.94', 'var_1h': '-0.01%', 'var_24h': '1.84%', 'var_7d': '-2.16%', 'market_cap': 'R$399,470,928,378', 'volume': 'R$165,806,433,138'}, 'BNB': {'nome': 'BNB', 'codigo': 'BNB', 'preco': 'R$1,689.78', 'var_1h': '0.39%', 'var_24h': '-0.06%', 'var_7d': '6.78%', 'market_cap': 'R$263,463,706,434', 'volume': 'R$4,416,827,343'}, 'USD Coin': {'nome': 'USD Coin', 'codigo': 'USDC', 'preco': 'R$4.93', 'var_1h': '-0.01%', 'var_24h': '1.85%', 'var_7d': '-2.16%', 'market_cap': 'R$155,835,331,376', 'volume': 'R$24,071,872,883'}, 'XRP': {'nome': 'XRP', 'codigo': 'XRP', 'preco': 'R$2.52', 'var_1h': '-0.19%', 'var_24h': '-0.69%', 'var_7d': '-2.25%', 'market_cap': 'R$130,433,893,575', 'volume': 'R$5,013,168,734'}, 'Cardano': {'nome': 'Cardano', 'codigo': 'ADA', 'preco': 'R$2.16', 'var_1h': '0.08%', 'var_24h': '-1.51%', 'var_7d': '9.96%', 'market_cap': 'R$75,262,086,587', 'volume': 'R$2,365,156,078'}, 'Dogecoin': {'nome': 'Dogecoin', 'codigo': 'DOGE', 'preco': 'R$0.452', 'var_1h': '0.16%', 'var_24h': '2.07%', 'var_7d': '6.71%', 'market_cap': 'R$62,816,780,950', 'volume': 'R$6,803,490,348'}, 'Polygon': {'nome': 'Polygon', 'codigo': 'MATIC', 'preco': 'R$5.75', 'var_1h': '0.15%', 'var_24h': '0.87%', 'var_7d': '2.72%', 'market_cap': 'R$53,038,372,595', 'volume': 'R$1,824,864,192'}, 'Solana': {'nome': 'Solana', 'codigo': 'SOL', 'preco': 'R$122.27', 'var_1h': '-0.03%', 'var_24h': '1.90%', 'var_7d': '17.28%', 'market_cap': 'R$47,972,901,601', 'volume': 'R$4,654,884,089'}}\n"
     ]
    }
   ],
   "source": [
    "tbody = site.find(\"tbody\")\n",
    "linhas = tbody.find_all(\"tr\")\n",
    "moedas = {}\n",
    "\n",
    "for linha in linhas:\n",
    "    try:\n",
    "        nome = linha.find(class_=\"kKpPOn\").text\n",
    "        codigo = linha.find(class_=\"coin-item-symbol\").text\n",
    "        valores = linha.find_all(string=re.compile(\"\\$\"))\n",
    "        preco = valores[0]\n",
    "        percentuais = linha.find_all(string=re.compile(\"%\"))\n",
    "\n",
    "        for i, percentual in enumerate(percentuais):\n",
    "            if \"bQjSqS\" in percentual.parent[\"class\"]:\n",
    "                percentuais[i] = \"-\" + percentual\n",
    "\n",
    "        var_1h = percentuais[0]\n",
    "        var_24h = percentuais[1]\n",
    "        var_7d = percentuais[2]\n",
    "\n",
    "        market_cap = valores[2]\n",
    "        volume = valores[3]\n",
    "        dic = {\n",
    "            \"nome\": nome,\n",
    "            \"codigo\": codigo,\n",
    "            \"preco\": preco,\n",
    "            \"var_1h\": var_1h,\n",
    "            \"var_24h\": var_24h,\n",
    "            \"var_7d\": var_7d,\n",
    "            \"market_cap\": market_cap,\n",
    "            \"volume\": volume,\n",
    "        }\n",
    "        moedas[nome] = dic\n",
    "    except AttributeError:\n",
    "        break\n",
    "print(moedas)\n"
   ]
  }
 ],
 "metadata": {
  "kernelspec": {
   "display_name": "BeautifulSoup",
   "language": "python",
   "name": "python3"
  },
  "language_info": {
   "codemirror_mode": {
    "name": "ipython",
    "version": 3
   },
   "file_extension": ".py",
   "mimetype": "text/x-python",
   "name": "python",
   "nbconvert_exporter": "python",
   "pygments_lexer": "ipython3",
   "version": "3.11.3"
  },
  "orig_nbformat": 4
 },
 "nbformat": 4,
 "nbformat_minor": 2
}
